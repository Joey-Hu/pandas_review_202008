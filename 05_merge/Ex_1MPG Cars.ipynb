{
 "cells": [
  {
   "cell_type": "code",
   "execution_count": 17,
   "metadata": {},
   "outputs": [],
   "source": [
    "import pandas as pd\n",
    "import numpy as np"
   ]
  },
  {
   "cell_type": "code",
   "execution_count": 11,
   "metadata": {},
   "outputs": [
    {
     "name": "stdout",
     "output_type": "stream",
     "text": [
      "Index(['mpg', 'cylinders', 'displacement', 'horsepower', 'weight',\n",
      "       'acceleration', 'model', 'origin', 'car', 'Unnamed: 9', 'Unnamed: 10',\n",
      "       'Unnamed: 11', 'Unnamed: 12', 'Unnamed: 13'],\n",
      "      dtype='object')\n",
      "Index(['mpg', 'cylinders', 'displacement', 'horsepower', 'weight',\n",
      "       'acceleration', 'model', 'origin', 'car'],\n",
      "      dtype='object')\n"
     ]
    }
   ],
   "source": [
    "cars1 = pd.read_csv('../data/cars1.csv')\n",
    "cars2 = pd.read_csv('../data/cars2.csv')\n",
    "print(cars1.columns)\n",
    "print(cars2.columns)"
   ]
  },
  {
   "cell_type": "code",
   "execution_count": 12,
   "metadata": {},
   "outputs": [
    {
     "data": {
      "text/html": [
       "<div>\n",
       "<style scoped>\n",
       "    .dataframe tbody tr th:only-of-type {\n",
       "        vertical-align: middle;\n",
       "    }\n",
       "\n",
       "    .dataframe tbody tr th {\n",
       "        vertical-align: top;\n",
       "    }\n",
       "\n",
       "    .dataframe thead th {\n",
       "        text-align: right;\n",
       "    }\n",
       "</style>\n",
       "<table border=\"1\" class=\"dataframe\">\n",
       "  <thead>\n",
       "    <tr style=\"text-align: right;\">\n",
       "      <th></th>\n",
       "      <th>mpg</th>\n",
       "      <th>cylinders</th>\n",
       "      <th>displacement</th>\n",
       "      <th>horsepower</th>\n",
       "      <th>weight</th>\n",
       "      <th>acceleration</th>\n",
       "      <th>model</th>\n",
       "      <th>origin</th>\n",
       "      <th>car</th>\n",
       "    </tr>\n",
       "  </thead>\n",
       "  <tbody>\n",
       "    <tr>\n",
       "      <th>0</th>\n",
       "      <td>18.0</td>\n",
       "      <td>8</td>\n",
       "      <td>307</td>\n",
       "      <td>130</td>\n",
       "      <td>3504</td>\n",
       "      <td>12.0</td>\n",
       "      <td>70</td>\n",
       "      <td>1</td>\n",
       "      <td>chevrolet chevelle malibu</td>\n",
       "    </tr>\n",
       "    <tr>\n",
       "      <th>1</th>\n",
       "      <td>15.0</td>\n",
       "      <td>8</td>\n",
       "      <td>350</td>\n",
       "      <td>165</td>\n",
       "      <td>3693</td>\n",
       "      <td>11.5</td>\n",
       "      <td>70</td>\n",
       "      <td>1</td>\n",
       "      <td>buick skylark 320</td>\n",
       "    </tr>\n",
       "    <tr>\n",
       "      <th>2</th>\n",
       "      <td>18.0</td>\n",
       "      <td>8</td>\n",
       "      <td>318</td>\n",
       "      <td>150</td>\n",
       "      <td>3436</td>\n",
       "      <td>11.0</td>\n",
       "      <td>70</td>\n",
       "      <td>1</td>\n",
       "      <td>plymouth satellite</td>\n",
       "    </tr>\n",
       "    <tr>\n",
       "      <th>3</th>\n",
       "      <td>16.0</td>\n",
       "      <td>8</td>\n",
       "      <td>304</td>\n",
       "      <td>150</td>\n",
       "      <td>3433</td>\n",
       "      <td>12.0</td>\n",
       "      <td>70</td>\n",
       "      <td>1</td>\n",
       "      <td>amc rebel sst</td>\n",
       "    </tr>\n",
       "    <tr>\n",
       "      <th>4</th>\n",
       "      <td>17.0</td>\n",
       "      <td>8</td>\n",
       "      <td>302</td>\n",
       "      <td>140</td>\n",
       "      <td>3449</td>\n",
       "      <td>10.5</td>\n",
       "      <td>70</td>\n",
       "      <td>1</td>\n",
       "      <td>ford torino</td>\n",
       "    </tr>\n",
       "  </tbody>\n",
       "</table>\n",
       "</div>"
      ],
      "text/plain": [
       "    mpg  cylinders  displacement horsepower  weight  acceleration  model  \\\n",
       "0  18.0          8           307        130    3504          12.0     70   \n",
       "1  15.0          8           350        165    3693          11.5     70   \n",
       "2  18.0          8           318        150    3436          11.0     70   \n",
       "3  16.0          8           304        150    3433          12.0     70   \n",
       "4  17.0          8           302        140    3449          10.5     70   \n",
       "\n",
       "   origin                        car  \n",
       "0       1  chevrolet chevelle malibu  \n",
       "1       1          buick skylark 320  \n",
       "2       1         plymouth satellite  \n",
       "3       1              amc rebel sst  \n",
       "4       1                ford torino  "
      ]
     },
     "execution_count": 12,
     "metadata": {},
     "output_type": "execute_result"
    }
   ],
   "source": [
    "# Oops, it seems our first dataset has some unnamed blank columns, fix cars1\n",
    "cars1 = cars1.loc[:, 'mpg':'car']\n",
    "cars1.head()"
   ]
  },
  {
   "cell_type": "code",
   "execution_count": 14,
   "metadata": {},
   "outputs": [
    {
     "data": {
      "text/plain": [
       "(200, 9)"
      ]
     },
     "execution_count": 14,
     "metadata": {},
     "output_type": "execute_result"
    }
   ],
   "source": [
    "#  What is the number of observations in each dataset?\n",
    "cars1.shape\n",
    "cars2.shape"
   ]
  },
  {
   "cell_type": "code",
   "execution_count": 16,
   "metadata": {},
   "outputs": [
    {
     "data": {
      "text/plain": [
       "(398, 9)"
      ]
     },
     "execution_count": 16,
     "metadata": {},
     "output_type": "execute_result"
    }
   ],
   "source": [
    "# Join cars1 and cars2 into a single DataFrame called cars\n",
    "cars = cars1.append(cars2)\n",
    "cars.shape"
   ]
  },
  {
   "cell_type": "code",
   "execution_count": 19,
   "metadata": {},
   "outputs": [
    {
     "data": {
      "text/plain": [
       "array([72830, 63159, 24170, 62488, 64404, 67987, 23966, 29027, 60967,\n",
       "       70475, 43412, 34077, 36833, 46978, 70444, 39188, 56782, 64435,\n",
       "       30999, 71093, 26094, 61816, 54865, 34802, 46685, 71327, 53400,\n",
       "       47070, 16274, 50117, 67737, 29695, 72509, 22269, 15001, 41217,\n",
       "       27655, 40599, 56346, 28225, 39731, 65585, 41522, 25208, 40555,\n",
       "       25185, 26189, 65770, 72306, 51027, 70625, 47139, 41225, 28640,\n",
       "       19797, 38755, 31518, 34711, 46857, 38199, 31672, 30746, 43769,\n",
       "       33903, 39875, 54093, 71800, 55778, 44403, 64587, 51216, 42038,\n",
       "       54557, 37859, 40982, 35836, 30176, 37865, 67882, 30548, 70543,\n",
       "       19905, 58539, 52254, 20424, 50596, 49832, 18605, 23345, 33348,\n",
       "       58110, 47801, 58123, 16403, 17654, 43266, 26299, 40635, 57007,\n",
       "       50063, 53729, 46499, 54257, 37662, 57535, 56742, 35860, 26842,\n",
       "       58155, 65747, 43589, 19283, 32776, 51422, 39495, 18404, 32021,\n",
       "       57572, 20296, 19085, 31940, 72345, 48078, 72489, 56137, 62628,\n",
       "       55739, 49414, 55283, 32348, 71700, 23702, 54030, 50323, 56333,\n",
       "       68183, 72530, 36190, 47751, 35583, 51108, 25468, 32960, 18481,\n",
       "       54540, 25833, 36631, 67046, 52841, 41129, 40546, 23339, 22067,\n",
       "       62146, 23044, 17210, 25042, 40933, 31728, 18546, 26541, 40465,\n",
       "       20290, 25887, 63257, 34105, 44631, 15741, 43839, 31771, 39207,\n",
       "       61553, 33480, 47332, 38080, 71211, 21134, 15142, 35505, 27953,\n",
       "       44431, 15632, 52940, 63505, 40194, 30669, 40961, 55154, 55483,\n",
       "       40996, 66419, 16903, 25486, 18588, 70903, 18323, 52994, 60139,\n",
       "       32795, 23957, 59996, 61849, 66063, 51720, 44533, 35019, 72630,\n",
       "       45255, 64725, 23105, 59727, 35216, 67532, 57784, 21689, 35373,\n",
       "       26058, 53522, 15122, 71379, 30385, 37081, 22713, 21747, 32029,\n",
       "       54522, 50458, 45484, 16896, 30685, 56013, 21926, 26826, 58736,\n",
       "       40036, 23383, 59537, 26000, 27154, 64417, 49840, 63743, 56275,\n",
       "       57213, 47636, 21742, 17495, 26384, 41609, 32262, 63009, 19630,\n",
       "       24261, 28401, 38337, 20343, 32376, 30522, 45823, 30651, 31596,\n",
       "       66251, 41895, 65806, 53968, 33300, 15780, 71200, 66130, 23524,\n",
       "       43892, 26036, 42190, 15443, 29663, 30925, 54414, 29061, 44039,\n",
       "       16878, 32482, 23276, 59999, 58391, 27284, 39434, 37741, 40133,\n",
       "       61966, 36328, 72889, 61982, 33865, 25170, 22822, 21498, 68488,\n",
       "       18022, 34542, 47479, 61344, 26030, 72712, 53459, 58476, 25719,\n",
       "       40371, 23407, 54027, 69419, 25449, 17412, 47199, 51877, 47155,\n",
       "       31561, 45983, 65944, 57945, 56604, 30935, 27539, 62986, 47154,\n",
       "       44278, 62643, 61798, 16185, 40020, 35728, 54098, 38134, 55407,\n",
       "       70700, 37407, 47464, 37745, 71041, 34881, 60915, 68882, 59199,\n",
       "       50830, 44736, 49619, 42472, 21250, 37601, 19159, 34192, 68960,\n",
       "       51718, 55593, 31115, 36311, 46351, 48430, 55743, 63293, 64654,\n",
       "       64141, 15511, 43654, 16528, 66129, 18378, 47099, 68681, 38862,\n",
       "       20158, 17647, 24402, 52701, 63644, 15308, 72986, 43823, 26199,\n",
       "       41401, 26108, 66842, 31798, 38613, 71658, 47405, 41341, 51097,\n",
       "       65108, 41061, 30051, 57401, 36043, 41238, 51768, 36899, 50377,\n",
       "       28836, 28867])"
      ]
     },
     "execution_count": 19,
     "metadata": {},
     "output_type": "execute_result"
    }
   ],
   "source": [
    "# Oops, there is a column missing, called owners. Create a random number Series from 15,000 to 73,000.\n",
    "owners = np.random.randint(15000, 73000, size=398)\n",
    "owners"
   ]
  },
  {
   "cell_type": "code",
   "execution_count": 21,
   "metadata": {},
   "outputs": [
    {
     "data": {
      "text/html": [
       "<div>\n",
       "<style scoped>\n",
       "    .dataframe tbody tr th:only-of-type {\n",
       "        vertical-align: middle;\n",
       "    }\n",
       "\n",
       "    .dataframe tbody tr th {\n",
       "        vertical-align: top;\n",
       "    }\n",
       "\n",
       "    .dataframe thead th {\n",
       "        text-align: right;\n",
       "    }\n",
       "</style>\n",
       "<table border=\"1\" class=\"dataframe\">\n",
       "  <thead>\n",
       "    <tr style=\"text-align: right;\">\n",
       "      <th></th>\n",
       "      <th>mpg</th>\n",
       "      <th>cylinders</th>\n",
       "      <th>displacement</th>\n",
       "      <th>horsepower</th>\n",
       "      <th>weight</th>\n",
       "      <th>acceleration</th>\n",
       "      <th>model</th>\n",
       "      <th>origin</th>\n",
       "      <th>car</th>\n",
       "      <th>owner</th>\n",
       "    </tr>\n",
       "  </thead>\n",
       "  <tbody>\n",
       "    <tr>\n",
       "      <th>0</th>\n",
       "      <td>18.0</td>\n",
       "      <td>8</td>\n",
       "      <td>307</td>\n",
       "      <td>130</td>\n",
       "      <td>3504</td>\n",
       "      <td>12.0</td>\n",
       "      <td>70</td>\n",
       "      <td>1</td>\n",
       "      <td>chevrolet chevelle malibu</td>\n",
       "      <td>72830</td>\n",
       "    </tr>\n",
       "    <tr>\n",
       "      <th>1</th>\n",
       "      <td>15.0</td>\n",
       "      <td>8</td>\n",
       "      <td>350</td>\n",
       "      <td>165</td>\n",
       "      <td>3693</td>\n",
       "      <td>11.5</td>\n",
       "      <td>70</td>\n",
       "      <td>1</td>\n",
       "      <td>buick skylark 320</td>\n",
       "      <td>63159</td>\n",
       "    </tr>\n",
       "    <tr>\n",
       "      <th>2</th>\n",
       "      <td>18.0</td>\n",
       "      <td>8</td>\n",
       "      <td>318</td>\n",
       "      <td>150</td>\n",
       "      <td>3436</td>\n",
       "      <td>11.0</td>\n",
       "      <td>70</td>\n",
       "      <td>1</td>\n",
       "      <td>plymouth satellite</td>\n",
       "      <td>24170</td>\n",
       "    </tr>\n",
       "    <tr>\n",
       "      <th>3</th>\n",
       "      <td>16.0</td>\n",
       "      <td>8</td>\n",
       "      <td>304</td>\n",
       "      <td>150</td>\n",
       "      <td>3433</td>\n",
       "      <td>12.0</td>\n",
       "      <td>70</td>\n",
       "      <td>1</td>\n",
       "      <td>amc rebel sst</td>\n",
       "      <td>62488</td>\n",
       "    </tr>\n",
       "    <tr>\n",
       "      <th>4</th>\n",
       "      <td>17.0</td>\n",
       "      <td>8</td>\n",
       "      <td>302</td>\n",
       "      <td>140</td>\n",
       "      <td>3449</td>\n",
       "      <td>10.5</td>\n",
       "      <td>70</td>\n",
       "      <td>1</td>\n",
       "      <td>ford torino</td>\n",
       "      <td>64404</td>\n",
       "    </tr>\n",
       "  </tbody>\n",
       "</table>\n",
       "</div>"
      ],
      "text/plain": [
       "    mpg  cylinders  displacement horsepower  weight  acceleration  model  \\\n",
       "0  18.0          8           307        130    3504          12.0     70   \n",
       "1  15.0          8           350        165    3693          11.5     70   \n",
       "2  18.0          8           318        150    3436          11.0     70   \n",
       "3  16.0          8           304        150    3433          12.0     70   \n",
       "4  17.0          8           302        140    3449          10.5     70   \n",
       "\n",
       "   origin                        car  owner  \n",
       "0       1  chevrolet chevelle malibu  72830  \n",
       "1       1          buick skylark 320  63159  \n",
       "2       1         plymouth satellite  24170  \n",
       "3       1              amc rebel sst  62488  \n",
       "4       1                ford torino  64404  "
      ]
     },
     "execution_count": 21,
     "metadata": {},
     "output_type": "execute_result"
    }
   ],
   "source": [
    "cars['owner'] = owners\n",
    "cars.head()"
   ]
  },
  {
   "cell_type": "code",
   "execution_count": null,
   "metadata": {},
   "outputs": [],
   "source": []
  },
  {
   "cell_type": "code",
   "execution_count": null,
   "metadata": {},
   "outputs": [],
   "source": []
  },
  {
   "cell_type": "code",
   "execution_count": null,
   "metadata": {},
   "outputs": [],
   "source": []
  },
  {
   "cell_type": "code",
   "execution_count": null,
   "metadata": {},
   "outputs": [],
   "source": []
  }
 ],
 "metadata": {
  "kernelspec": {
   "display_name": "Python 3",
   "language": "python",
   "name": "python3"
  },
  "language_info": {
   "codemirror_mode": {
    "name": "ipython",
    "version": 3
   },
   "file_extension": ".py",
   "mimetype": "text/x-python",
   "name": "python",
   "nbconvert_exporter": "python",
   "pygments_lexer": "ipython3",
   "version": "3.7.5"
  }
 },
 "nbformat": 4,
 "nbformat_minor": 4
}
